{
 "cells": [
  {
   "cell_type": "code",
   "execution_count": 6,
   "id": "1ad16a9f-6624-4629-ae0b-4bf19c32be21",
   "metadata": {},
   "outputs": [
    {
     "name": "stdout",
     "output_type": "stream",
     "text": [
      "Collecting pandas\n",
      "  Obtaining dependency information for pandas from https://files.pythonhosted.org/packages/b2/c0/54415af59db5cdd86a3d3bf79863e8cc3fa9ed265f0745254061ac09d5f2/pandas-2.3.1-cp313-cp313-win_amd64.whl.metadata\n",
      "  Downloading pandas-2.3.1-cp313-cp313-win_amd64.whl.metadata (19 kB)\n",
      "Collecting numpy>=1.26.0 (from pandas)\n",
      "  Obtaining dependency information for numpy>=1.26.0 from https://files.pythonhosted.org/packages/aa/6f/a428fd1cb7ed39b4280d057720fed5121b0d7754fd2a9768640160f5517b/numpy-2.3.2-cp313-cp313-win_amd64.whl.metadata\n",
      "  Downloading numpy-2.3.2-cp313-cp313-win_amd64.whl.metadata (60 kB)\n",
      "     ---------------------------------------- 0.0/60.9 kB ? eta -:--:--\n",
      "     ---------------------------------------- 0.0/60.9 kB ? eta -:--:--\n",
      "     ---------------------------------------- 0.0/60.9 kB ? eta -:--:--\n",
      "     ---------------------------------------- 0.0/60.9 kB ? eta -:--:--\n",
      "     ------ --------------------------------- 10.2/60.9 kB ? eta -:--:--\n",
      "     ------------------------- ------------ 41.0/60.9 kB 582.7 kB/s eta 0:00:01\n",
      "     ------------------------------- ------ 51.2/60.9 kB 431.8 kB/s eta 0:00:01\n",
      "     ------------------------------- ------ 51.2/60.9 kB 431.8 kB/s eta 0:00:01\n",
      "     ------------------------------- ------ 51.2/60.9 kB 431.8 kB/s eta 0:00:01\n",
      "     ------------------------------- ------ 51.2/60.9 kB 431.8 kB/s eta 0:00:01\n",
      "     ------------------------------- ------ 51.2/60.9 kB 431.8 kB/s eta 0:00:01\n",
      "     -------------------------------------- 60.9/60.9 kB 153.3 kB/s eta 0:00:00\n",
      "Requirement already satisfied: python-dateutil>=2.8.2 in c:\\users\\user\\apl\\python_project_1\\.venv\\lib\\site-packages (from pandas) (2.9.0.post0)\n",
      "Collecting pytz>=2020.1 (from pandas)\n",
      "  Obtaining dependency information for pytz>=2020.1 from https://files.pythonhosted.org/packages/81/c4/34e93fe5f5429d7570ec1fa436f1986fb1f00c3e0f43a589fe2bbcd22c3f/pytz-2025.2-py2.py3-none-any.whl.metadata\n",
      "  Downloading pytz-2025.2-py2.py3-none-any.whl.metadata (22 kB)\n",
      "Collecting tzdata>=2022.7 (from pandas)\n",
      "  Obtaining dependency information for tzdata>=2022.7 from https://files.pythonhosted.org/packages/5c/23/c7abc0ca0a1526a0774eca151daeb8de62ec457e77262b66b359c3c7679e/tzdata-2025.2-py2.py3-none-any.whl.metadata\n",
      "  Downloading tzdata-2025.2-py2.py3-none-any.whl.metadata (1.4 kB)\n",
      "Requirement already satisfied: six>=1.5 in c:\\users\\user\\apl\\python_project_1\\.venv\\lib\\site-packages (from python-dateutil>=2.8.2->pandas) (1.17.0)\n",
      "Downloading pandas-2.3.1-cp313-cp313-win_amd64.whl (11.0 MB)\n",
      "   ---------------------------------------- 0.0/11.0 MB ? eta -:--:--\n",
      "   ---------------------------------------- 0.1/11.0 MB 29.7 MB/s eta 0:00:01\n",
      "   ---------------------------------------- 0.1/11.0 MB 29.7 MB/s eta 0:00:01\n",
      "    --------------------------------------- 0.2/11.0 MB 1.5 MB/s eta 0:00:08\n",
      "    --------------------------------------- 0.2/11.0 MB 1.5 MB/s eta 0:00:08\n",
      "   - -------------------------------------- 0.3/11.0 MB 1.7 MB/s eta 0:00:07\n",
      "   -- ------------------------------------- 0.6/11.0 MB 2.1 MB/s eta 0:00:05\n",
      "   -- ------------------------------------- 0.8/11.0 MB 2.3 MB/s eta 0:00:05\n",
      "   -- ------------------------------------- 0.8/11.0 MB 2.3 MB/s eta 0:00:05\n",
      "   --- ------------------------------------ 1.0/11.0 MB 2.5 MB/s eta 0:00:04\n",
      "   ---- ----------------------------------- 1.2/11.0 MB 2.6 MB/s eta 0:00:04\n",
      "   ----- ---------------------------------- 1.4/11.0 MB 2.7 MB/s eta 0:00:04\n",
      "   ----- ---------------------------------- 1.4/11.0 MB 2.7 MB/s eta 0:00:04\n",
      "   ----- ---------------------------------- 1.6/11.0 MB 2.6 MB/s eta 0:00:04\n",
      "   ------ --------------------------------- 1.6/11.0 MB 2.6 MB/s eta 0:00:04\n",
      "   ------ --------------------------------- 1.7/11.0 MB 2.6 MB/s eta 0:00:04\n",
      "   ------- -------------------------------- 2.0/11.0 MB 2.7 MB/s eta 0:00:04\n",
      "   ------- -------------------------------- 2.0/11.0 MB 2.7 MB/s eta 0:00:04\n",
      "   -------- ------------------------------- 2.2/11.0 MB 2.6 MB/s eta 0:00:04\n",
      "   -------- ------------------------------- 2.2/11.0 MB 2.6 MB/s eta 0:00:04\n",
      "   -------- ------------------------------- 2.5/11.0 MB 2.7 MB/s eta 0:00:04\n",
      "   --------- ------------------------------ 2.7/11.0 MB 2.7 MB/s eta 0:00:04\n",
      "   ---------- ----------------------------- 2.8/11.0 MB 2.7 MB/s eta 0:00:03\n",
      "   ---------- ----------------------------- 3.0/11.0 MB 2.8 MB/s eta 0:00:03\n",
      "   ----------- ---------------------------- 3.2/11.0 MB 2.8 MB/s eta 0:00:03\n",
      "   ----------- ---------------------------- 3.3/11.0 MB 2.8 MB/s eta 0:00:03\n",
      "   ------------ --------------------------- 3.5/11.0 MB 2.9 MB/s eta 0:00:03\n",
      "   ------------- -------------------------- 3.7/11.0 MB 2.9 MB/s eta 0:00:03\n",
      "   ------------- -------------------------- 3.7/11.0 MB 2.8 MB/s eta 0:00:03\n",
      "   -------------- ------------------------- 3.9/11.0 MB 2.9 MB/s eta 0:00:03\n",
      "   -------------- ------------------------- 3.9/11.0 MB 2.9 MB/s eta 0:00:03\n",
      "   --------------- ------------------------ 4.1/11.0 MB 2.9 MB/s eta 0:00:03\n",
      "   --------------- ------------------------ 4.1/11.0 MB 2.9 MB/s eta 0:00:03\n",
      "   --------------- ------------------------ 4.4/11.0 MB 2.8 MB/s eta 0:00:03\n",
      "   --------------- ------------------------ 4.4/11.0 MB 2.8 MB/s eta 0:00:03\n",
      "   ---------------- ----------------------- 4.6/11.0 MB 2.8 MB/s eta 0:00:03\n",
      "   ----------------- ---------------------- 4.7/11.0 MB 2.8 MB/s eta 0:00:03\n",
      "   ----------------- ---------------------- 4.9/11.0 MB 2.8 MB/s eta 0:00:03\n",
      "   ------------------ --------------------- 5.2/11.0 MB 2.9 MB/s eta 0:00:03\n",
      "   ------------------- -------------------- 5.3/11.0 MB 2.9 MB/s eta 0:00:02\n",
      "   ------------------- -------------------- 5.5/11.0 MB 2.9 MB/s eta 0:00:02\n",
      "   -------------------- ------------------- 5.5/11.0 MB 2.8 MB/s eta 0:00:02\n",
      "   -------------------- ------------------- 5.7/11.0 MB 2.9 MB/s eta 0:00:02\n",
      "   --------------------- ------------------ 5.8/11.0 MB 2.8 MB/s eta 0:00:02\n",
      "   --------------------- ------------------ 6.0/11.0 MB 2.9 MB/s eta 0:00:02\n",
      "   --------------------- ------------------ 6.0/11.0 MB 2.9 MB/s eta 0:00:02\n",
      "   ---------------------- ----------------- 6.3/11.0 MB 2.9 MB/s eta 0:00:02\n",
      "   ----------------------- ---------------- 6.5/11.0 MB 2.9 MB/s eta 0:00:02\n",
      "   ------------------------ --------------- 6.8/11.0 MB 3.0 MB/s eta 0:00:02\n",
      "   ------------------------- -------------- 7.0/11.0 MB 3.0 MB/s eta 0:00:02\n",
      "   ------------------------- -------------- 7.1/11.0 MB 3.0 MB/s eta 0:00:02\n",
      "   -------------------------- ------------- 7.4/11.0 MB 3.1 MB/s eta 0:00:02\n",
      "   --------------------------- ------------ 7.6/11.0 MB 3.1 MB/s eta 0:00:02\n",
      "   --------------------------- ------------ 7.6/11.0 MB 3.0 MB/s eta 0:00:02\n",
      "   ---------------------------- ----------- 7.9/11.0 MB 3.1 MB/s eta 0:00:02\n",
      "   ----------------------------- ---------- 8.1/11.0 MB 3.1 MB/s eta 0:00:01\n",
      "   ------------------------------ --------- 8.3/11.0 MB 3.1 MB/s eta 0:00:01\n",
      "   ------------------------------ --------- 8.5/11.0 MB 3.1 MB/s eta 0:00:01\n",
      "   ------------------------------- -------- 8.7/11.0 MB 3.2 MB/s eta 0:00:01\n",
      "   -------------------------------- ------- 8.9/11.0 MB 3.2 MB/s eta 0:00:01\n",
      "   -------------------------------- ------- 9.1/11.0 MB 3.2 MB/s eta 0:00:01\n",
      "   --------------------------------- ------ 9.2/11.0 MB 3.2 MB/s eta 0:00:01\n",
      "   ---------------------------------- ----- 9.5/11.0 MB 3.3 MB/s eta 0:00:01\n",
      "   ----------------------------------- ---- 9.7/11.0 MB 3.3 MB/s eta 0:00:01\n",
      "   ----------------------------------- ---- 9.9/11.0 MB 3.2 MB/s eta 0:00:01\n",
      "   ------------------------------------ --- 10.1/11.0 MB 3.3 MB/s eta 0:00:01\n",
      "   ------------------------------------- -- 10.4/11.0 MB 3.4 MB/s eta 0:00:01\n",
      "   -------------------------------------- - 10.6/11.0 MB 3.4 MB/s eta 0:00:01\n",
      "   ---------------------------------------  10.8/11.0 MB 3.5 MB/s eta 0:00:01\n",
      "   ---------------------------------------  11.0/11.0 MB 3.5 MB/s eta 0:00:01\n",
      "   ---------------------------------------  11.0/11.0 MB 3.5 MB/s eta 0:00:01\n",
      "   ---------------------------------------- 11.0/11.0 MB 3.4 MB/s eta 0:00:00\n",
      "Downloading numpy-2.3.2-cp313-cp313-win_amd64.whl (12.8 MB)\n",
      "   ---------------------------------------- 0.0/12.8 MB ? eta -:--:--\n",
      "   ---------------------------------------- 0.1/12.8 MB 19.0 MB/s eta 0:00:01\n",
      "   - -------------------------------------- 0.4/12.8 MB 4.6 MB/s eta 0:00:03\n",
      "   - -------------------------------------- 0.6/12.8 MB 5.0 MB/s eta 0:00:03\n",
      "   -- ------------------------------------- 0.8/12.8 MB 4.9 MB/s eta 0:00:03\n",
      "   --- ------------------------------------ 1.1/12.8 MB 4.7 MB/s eta 0:00:03\n",
      "   --- ------------------------------------ 1.2/12.8 MB 4.5 MB/s eta 0:00:03\n",
      "   ---- ----------------------------------- 1.5/12.8 MB 4.6 MB/s eta 0:00:03\n",
      "   ----- ---------------------------------- 1.8/12.8 MB 4.8 MB/s eta 0:00:03\n",
      "   ------ --------------------------------- 1.9/12.8 MB 4.5 MB/s eta 0:00:03\n",
      "   ------ --------------------------------- 2.0/12.8 MB 4.6 MB/s eta 0:00:03\n",
      "   ------ --------------------------------- 2.2/12.8 MB 4.5 MB/s eta 0:00:03\n",
      "   ------- -------------------------------- 2.4/12.8 MB 4.2 MB/s eta 0:00:03\n",
      "   -------- ------------------------------- 2.6/12.8 MB 4.3 MB/s eta 0:00:03\n",
      "   -------- ------------------------------- 2.7/12.8 MB 4.2 MB/s eta 0:00:03\n",
      "   --------- ------------------------------ 2.9/12.8 MB 4.2 MB/s eta 0:00:03\n",
      "   --------- ------------------------------ 3.1/12.8 MB 4.1 MB/s eta 0:00:03\n",
      "   ---------- ----------------------------- 3.3/12.8 MB 4.1 MB/s eta 0:00:03\n",
      "   ---------- ----------------------------- 3.4/12.8 MB 4.2 MB/s eta 0:00:03\n",
      "   ----------- ---------------------------- 3.6/12.8 MB 4.0 MB/s eta 0:00:03\n",
      "   ------------ --------------------------- 3.9/12.8 MB 4.2 MB/s eta 0:00:03\n",
      "   ------------- -------------------------- 4.2/12.8 MB 4.3 MB/s eta 0:00:03\n",
      "   -------------- ------------------------- 4.5/12.8 MB 4.4 MB/s eta 0:00:02\n",
      "   --------------- ------------------------ 4.9/12.8 MB 4.5 MB/s eta 0:00:02\n",
      "   ---------------- ----------------------- 5.1/12.8 MB 4.5 MB/s eta 0:00:02\n",
      "   ---------------- ----------------------- 5.4/12.8 MB 4.6 MB/s eta 0:00:02\n",
      "   ----------------- ---------------------- 5.6/12.8 MB 4.5 MB/s eta 0:00:02\n",
      "   ------------------ --------------------- 5.8/12.8 MB 4.7 MB/s eta 0:00:02\n",
      "   ------------------ --------------------- 6.1/12.8 MB 4.6 MB/s eta 0:00:02\n",
      "   ------------------- -------------------- 6.3/12.8 MB 4.7 MB/s eta 0:00:02\n",
      "   -------------------- ------------------- 6.7/12.8 MB 4.7 MB/s eta 0:00:02\n",
      "   --------------------- ------------------ 6.8/12.8 MB 4.6 MB/s eta 0:00:02\n",
      "   ---------------------- ----------------- 7.0/12.8 MB 4.6 MB/s eta 0:00:02\n",
      "   ---------------------- ----------------- 7.1/12.8 MB 4.6 MB/s eta 0:00:02\n",
      "   ---------------------- ----------------- 7.3/12.8 MB 4.6 MB/s eta 0:00:02\n",
      "   ----------------------- ---------------- 7.4/12.8 MB 4.5 MB/s eta 0:00:02\n",
      "   ------------------------ --------------- 7.7/12.8 MB 4.5 MB/s eta 0:00:02\n",
      "   ------------------------ --------------- 8.0/12.8 MB 4.6 MB/s eta 0:00:02\n",
      "   ------------------------- -------------- 8.2/12.8 MB 4.6 MB/s eta 0:00:01\n",
      "   -------------------------- ------------- 8.5/12.8 MB 4.7 MB/s eta 0:00:01\n",
      "   -------------------------- ------------- 8.5/12.8 MB 4.6 MB/s eta 0:00:01\n",
      "   --------------------------- ------------ 8.8/12.8 MB 4.6 MB/s eta 0:00:01\n",
      "   --------------------------- ------------ 8.9/12.8 MB 4.5 MB/s eta 0:00:01\n",
      "   ---------------------------- ----------- 9.2/12.8 MB 4.5 MB/s eta 0:00:01\n",
      "   ---------------------------- ----------- 9.2/12.8 MB 4.4 MB/s eta 0:00:01\n",
      "   ----------------------------- ---------- 9.5/12.8 MB 4.5 MB/s eta 0:00:01\n",
      "   ------------------------------ --------- 9.8/12.8 MB 4.5 MB/s eta 0:00:01\n",
      "   ------------------------------- -------- 10.2/12.8 MB 4.6 MB/s eta 0:00:01\n",
      "   --------------------------------- ------ 10.6/12.8 MB 4.6 MB/s eta 0:00:01\n",
      "   ---------------------------------- ----- 10.9/12.8 MB 4.8 MB/s eta 0:00:01\n",
      "   ---------------------------------- ----- 11.0/12.8 MB 4.7 MB/s eta 0:00:01\n",
      "   ----------------------------------- ---- 11.4/12.8 MB 4.8 MB/s eta 0:00:01\n",
      "   ------------------------------------ --- 11.7/12.8 MB 4.8 MB/s eta 0:00:01\n",
      "   ------------------------------------- -- 11.8/12.8 MB 4.8 MB/s eta 0:00:01\n",
      "   ------------------------------------- -- 12.0/12.8 MB 4.8 MB/s eta 0:00:01\n",
      "   -------------------------------------- - 12.2/12.8 MB 4.8 MB/s eta 0:00:01\n",
      "   ---------------------------------------  12.6/12.8 MB 4.9 MB/s eta 0:00:01\n",
      "   ---------------------------------------  12.8/12.8 MB 4.9 MB/s eta 0:00:01\n",
      "   ---------------------------------------  12.8/12.8 MB 4.9 MB/s eta 0:00:01\n",
      "   ---------------------------------------  12.8/12.8 MB 4.9 MB/s eta 0:00:01\n",
      "   ---------------------------------------- 12.8/12.8 MB 4.6 MB/s eta 0:00:00\n",
      "Downloading pytz-2025.2-py2.py3-none-any.whl (509 kB)\n",
      "   ---------------------------------------- 0.0/509.2 kB ? eta -:--:--\n",
      "   ------------------------ -------------- 317.4/509.2 kB 51.2 MB/s eta 0:00:01\n",
      "   ---------------------------------------- 509.2/509.2 kB 7.0 MB/s eta 0:00:00\n",
      "Downloading tzdata-2025.2-py2.py3-none-any.whl (347 kB)\n",
      "   ---------------------------------------- 0.0/347.8 kB ? eta -:--:--\n",
      "   ------------------------------------ -- 327.7/347.8 kB 10.8 MB/s eta 0:00:01\n",
      "   ---------------------------------------- 347.8/347.8 kB 5.5 MB/s eta 0:00:00\n",
      "Installing collected packages: pytz, tzdata, numpy, pandas\n",
      "Successfully installed numpy-2.3.2 pandas-2.3.1 pytz-2025.2 tzdata-2025.2\n",
      "Note: you may need to restart the kernel to use updated packages.\n"
     ]
    },
    {
     "name": "stderr",
     "output_type": "stream",
     "text": [
      "\n",
      "[notice] A new release of pip is available: 23.2.1 -> 25.1.1\n",
      "[notice] To update, run: python.exe -m pip install --upgrade pip\n"
     ]
    }
   ],
   "source": [
    "pip install pandas"
   ]
  },
  {
   "cell_type": "code",
   "execution_count": 11,
   "id": "c61d15a7-18ee-48cb-a5db-18d927bb509a",
   "metadata": {},
   "outputs": [
    {
     "name": "stdout",
     "output_type": "stream",
     "text": [
      "Collecting openpyxl\n",
      "  Obtaining dependency information for openpyxl from https://files.pythonhosted.org/packages/c0/da/977ded879c29cbd04de313843e76868e6e13408a94ed6b987245dc7c8506/openpyxl-3.1.5-py2.py3-none-any.whl.metadata\n",
      "  Using cached openpyxl-3.1.5-py2.py3-none-any.whl.metadata (2.5 kB)\n",
      "Collecting et-xmlfile (from openpyxl)\n",
      "  Obtaining dependency information for et-xmlfile from https://files.pythonhosted.org/packages/c1/8b/5fe2cc11fee489817272089c4203e679c63b570a5aaeb18d852ae3cbba6a/et_xmlfile-2.0.0-py3-none-any.whl.metadata\n",
      "  Using cached et_xmlfile-2.0.0-py3-none-any.whl.metadata (2.7 kB)\n",
      "Using cached openpyxl-3.1.5-py2.py3-none-any.whl (250 kB)\n",
      "Using cached et_xmlfile-2.0.0-py3-none-any.whl (18 kB)\n",
      "Installing collected packages: et-xmlfile, openpyxl\n",
      "Successfully installed et-xmlfile-2.0.0 openpyxl-3.1.5\n",
      "Note: you may need to restart the kernel to use updated packages.\n"
     ]
    },
    {
     "name": "stderr",
     "output_type": "stream",
     "text": [
      "\n",
      "[notice] A new release of pip is available: 23.2.1 -> 25.1.1\n",
      "[notice] To update, run: python.exe -m pip install --upgrade pip\n"
     ]
    }
   ],
   "source": [
    "pip install openpyxl"
   ]
  },
  {
   "cell_type": "code",
   "execution_count": 12,
   "id": "8e5f8863-cb91-4416-b85a-5f742ec5219a",
   "metadata": {},
   "outputs": [],
   "source": [
    "import pandas as pd"
   ]
  },
  {
   "cell_type": "code",
   "execution_count": 13,
   "id": "042f663e-3af4-4681-af79-6e695ec452f8",
   "metadata": {},
   "outputs": [],
   "source": [
    "# Загрузка данных из EXCEL файла\n",
    "df = pd.read_excel('t_svod.xlsx')"
   ]
  },
  {
   "cell_type": "code",
   "execution_count": 14,
   "id": "b2b06c4c-ff77-4a1d-b29a-e2236e713ebf",
   "metadata": {},
   "outputs": [
    {
     "name": "stdout",
     "output_type": "stream",
     "text": [
      "   №         Команда   И   В  Н  П    З  Пр   Р    О   Год\n",
      "0  1  Манчестер Сити  38  32  4  2  106  27  79  100  2018\n",
      "1  2  Манчестер Сити  38  26  3  9  102  35  67   81  2020\n",
      "2  1  Манчестер Сити  38  29  6  3   99  26  73   93  2022\n",
      "3  1  Манчестер Сити  38  28  7  3   96  34  62   91  2024\n",
      "4  1  Манчестер Сити  38  32  2  4   95  23  72   98  2019\n"
     ]
    }
   ],
   "source": [
    "# Просмотр первых строк таблицы\n",
    "print(df.head())"
   ]
  },
  {
   "cell_type": "code",
   "execution_count": 16,
   "id": "57f0987b-4d12-45e3-a9a1-e4acbdc0947a",
   "metadata": {},
   "outputs": [
    {
     "name": "stdout",
     "output_type": "stream",
     "text": [
      "Лучшая команда: Манчестер Сити с 100 очками\n"
     ]
    }
   ],
   "source": [
    "# Команда с наибольшим количеством набранных за 10 сезонов \n",
    "top_team = df.loc[df['О'].idxmax()]\n",
    "print(f\"Лучшая команда: {top_team['Команда']} с {top_team['О']} очками\")"
   ]
  },
  {
   "cell_type": "code",
   "execution_count": 17,
   "id": "afb4a2f5-e928-4634-87bd-ad526d3c4759",
   "metadata": {},
   "outputs": [
    {
     "name": "stdout",
     "output_type": "stream",
     "text": [
      "              Команда  Goals_Per_Game\n",
      "0      Манчестер Сити        2.789474\n",
      "1      Манчестер Сити        2.684211\n",
      "2      Манчестер Сити        2.605263\n",
      "3      Манчестер Сити        2.526316\n",
      "4      Манчестер Сити        2.500000\n",
      "..                ...             ...\n",
      "215       Норвич Сити        0.684211\n",
      "216       Саутгемптон        0.684211\n",
      "217       Норвич Сити        0.605263\n",
      "218  Хаддерсфилд Таун        0.578947\n",
      "219   Шеффилд Юнайтед        0.526316\n",
      "\n",
      "[220 rows x 2 columns]\n"
     ]
    }
   ],
   "source": [
    "# Среднее количество голов за матч\n",
    "df['Goals_Per_Game'] = df['З'] / df['И']\n",
    "print(df[['Команда', 'Goals_Per_Game']])"
   ]
  },
  {
   "cell_type": "code",
   "execution_count": 18,
   "id": "c4c8f740-1eed-4f38-a084-707361a0fc57",
   "metadata": {},
   "outputs": [
    {
     "name": "stdout",
     "output_type": "stream",
     "text": [
      "Команда с лучшей разницей голов: Манчестер Сити (79)\n"
     ]
    }
   ],
   "source": [
    "# Лучшая разница мячей\n",
    "df['Goal_Difference'] = df['З'] - df['Пр']\n",
    "best_diff_team = df.loc[df['Goal_Difference'].idxmax()]\n",
    "print(f\"Команда с лучшей разницей голов: {best_diff_team['Команда']} ({best_diff_team['Goal_Difference']})\")"
   ]
  },
  {
   "cell_type": "code",
   "execution_count": 20,
   "id": "42bc296a-3b49-4462-8e8b-9fbdf93217e9",
   "metadata": {},
   "outputs": [
    {
     "name": "stdout",
     "output_type": "stream",
     "text": [
      "Collecting matplotlib\n",
      "  Obtaining dependency information for matplotlib from https://files.pythonhosted.org/packages/b1/0f/eed564407bd4d935ffabf561ed31099ed609e19287409a27b6d336848653/matplotlib-3.10.3-cp313-cp313-win_amd64.whl.metadata\n",
      "  Downloading matplotlib-3.10.3-cp313-cp313-win_amd64.whl.metadata (11 kB)\n",
      "Collecting contourpy>=1.0.1 (from matplotlib)\n",
      "  Obtaining dependency information for contourpy>=1.0.1 from https://files.pythonhosted.org/packages/18/0b/0098c214843213759692cc638fce7de5c289200a830e5035d1791d7a2338/contourpy-1.3.3-cp313-cp313-win_amd64.whl.metadata\n",
      "  Downloading contourpy-1.3.3-cp313-cp313-win_amd64.whl.metadata (5.5 kB)\n",
      "Collecting cycler>=0.10 (from matplotlib)\n",
      "  Obtaining dependency information for cycler>=0.10 from https://files.pythonhosted.org/packages/e7/05/c19819d5e3d95294a6f5947fb9b9629efb316b96de511b418c53d245aae6/cycler-0.12.1-py3-none-any.whl.metadata\n",
      "  Using cached cycler-0.12.1-py3-none-any.whl.metadata (3.8 kB)\n",
      "Collecting fonttools>=4.22.0 (from matplotlib)\n",
      "  Obtaining dependency information for fonttools>=4.22.0 from https://files.pythonhosted.org/packages/a0/ee/f626cd372932d828508137a79b85167fdcf3adab2e3bed433f295c596c6a/fonttools-4.59.0-cp313-cp313-win_amd64.whl.metadata\n",
      "  Downloading fonttools-4.59.0-cp313-cp313-win_amd64.whl.metadata (110 kB)\n",
      "     ---------------------------------------- 0.0/110.1 kB ? eta -:--:--\n",
      "     ---------------------------------------- 0.0/110.1 kB ? eta -:--:--\n",
      "     ---------------------------------------- 0.0/110.1 kB ? eta -:--:--\n",
      "     ---------- --------------------------- 30.7/110.1 kB 49.3 MB/s eta 0:00:01\n",
      "     ------------- ----------------------- 41.0/110.1 kB 694.5 kB/s eta 0:00:01\n",
      "     --------------------------------- -- 102.4/110.1 kB 704.7 kB/s eta 0:00:01\n",
      "     ------------------------------------ 110.1/110.1 kB 699.4 kB/s eta 0:00:00\n",
      "Collecting kiwisolver>=1.3.1 (from matplotlib)\n",
      "  Obtaining dependency information for kiwisolver>=1.3.1 from https://files.pythonhosted.org/packages/d0/dc/c1abe38c37c071d0fc71c9a474fd0b9ede05d42f5a458d584619cfd2371a/kiwisolver-1.4.8-cp313-cp313-win_amd64.whl.metadata\n",
      "  Using cached kiwisolver-1.4.8-cp313-cp313-win_amd64.whl.metadata (6.3 kB)\n",
      "Requirement already satisfied: numpy>=1.23 in c:\\users\\user\\apl\\python_project_1\\.venv\\lib\\site-packages (from matplotlib) (2.3.2)\n",
      "Requirement already satisfied: packaging>=20.0 in c:\\users\\user\\apl\\python_project_1\\.venv\\lib\\site-packages (from matplotlib) (25.0)\n",
      "Collecting pillow>=8 (from matplotlib)\n",
      "  Obtaining dependency information for pillow>=8 from https://files.pythonhosted.org/packages/23/85/397c73524e0cd212067e0c969aa245b01d50183439550d24d9f55781b776/pillow-11.3.0-cp313-cp313-win_amd64.whl.metadata\n",
      "  Downloading pillow-11.3.0-cp313-cp313-win_amd64.whl.metadata (9.2 kB)\n",
      "Collecting pyparsing>=2.3.1 (from matplotlib)\n",
      "  Obtaining dependency information for pyparsing>=2.3.1 from https://files.pythonhosted.org/packages/05/e7/df2285f3d08fee213f2d041540fa4fc9ca6c2d44cf36d3a035bf2a8d2bcc/pyparsing-3.2.3-py3-none-any.whl.metadata\n",
      "  Downloading pyparsing-3.2.3-py3-none-any.whl.metadata (5.0 kB)\n",
      "Requirement already satisfied: python-dateutil>=2.7 in c:\\users\\user\\apl\\python_project_1\\.venv\\lib\\site-packages (from matplotlib) (2.9.0.post0)\n",
      "Requirement already satisfied: six>=1.5 in c:\\users\\user\\apl\\python_project_1\\.venv\\lib\\site-packages (from python-dateutil>=2.7->matplotlib) (1.17.0)\n",
      "Downloading matplotlib-3.10.3-cp313-cp313-win_amd64.whl (8.1 MB)\n",
      "   ---------------------------------------- 0.0/8.1 MB ? eta -:--:--\n",
      "    --------------------------------------- 0.2/8.1 MB 4.1 MB/s eta 0:00:02\n",
      "   - -------------------------------------- 0.3/8.1 MB 2.8 MB/s eta 0:00:03\n",
      "   -- ------------------------------------- 0.5/8.1 MB 3.2 MB/s eta 0:00:03\n",
      "   -- ------------------------------------- 0.5/8.1 MB 3.5 MB/s eta 0:00:03\n",
      "   ----- ---------------------------------- 1.0/8.1 MB 4.7 MB/s eta 0:00:02\n",
      "   -------- ------------------------------- 1.7/8.1 MB 6.2 MB/s eta 0:00:02\n",
      "   --------- ------------------------------ 2.0/8.1 MB 6.0 MB/s eta 0:00:02\n",
      "   ------------- -------------------------- 2.8/8.1 MB 7.7 MB/s eta 0:00:01\n",
      "   ----------------- ---------------------- 3.5/8.1 MB 8.2 MB/s eta 0:00:01\n",
      "   -------------------- ------------------- 4.2/8.1 MB 9.1 MB/s eta 0:00:01\n",
      "   -------------------------- ------------- 5.3/8.1 MB 10.0 MB/s eta 0:00:01\n",
      "   -------------------------------- ------- 6.5/8.1 MB 11.2 MB/s eta 0:00:01\n",
      "   ------------------------------------ --- 7.4/8.1 MB 11.8 MB/s eta 0:00:01\n",
      "   -------------------------------------- - 7.8/8.1 MB 12.1 MB/s eta 0:00:01\n",
      "   ---------------------------------------  8.1/8.1 MB 11.7 MB/s eta 0:00:01\n",
      "   ---------------------------------------- 8.1/8.1 MB 10.6 MB/s eta 0:00:00\n",
      "Downloading contourpy-1.3.3-cp313-cp313-win_amd64.whl (226 kB)\n",
      "   ---------------------------------------- 0.0/226.6 kB ? eta -:--:--\n",
      "   --------------------------------------- 226.6/226.6 kB 17.9 MB/s eta 0:00:00\n",
      "Using cached cycler-0.12.1-py3-none-any.whl (8.3 kB)\n",
      "Downloading fonttools-4.59.0-cp313-cp313-win_amd64.whl (2.2 MB)\n",
      "   ---------------------------------------- 0.0/2.2 MB ? eta -:--:--\n",
      "   -------------- ------------------------- 0.8/2.2 MB 44.8 MB/s eta 0:00:01\n",
      "   -------------- ------------------------- 0.8/2.2 MB 44.8 MB/s eta 0:00:01\n",
      "   ----------------------------- ---------- 1.7/2.2 MB 14.5 MB/s eta 0:00:01\n",
      "   ----------------------------- ---------- 1.7/2.2 MB 14.5 MB/s eta 0:00:01\n",
      "   ---------------------------------------- 2.2/2.2 MB 10.1 MB/s eta 0:00:00\n",
      "Using cached kiwisolver-1.4.8-cp313-cp313-win_amd64.whl (71 kB)\n",
      "Downloading pillow-11.3.0-cp313-cp313-win_amd64.whl (7.0 MB)\n",
      "   ---------------------------------------- 0.0/7.0 MB ? eta -:--:--\n",
      "   ---- ----------------------------------- 0.8/7.0 MB 41.3 MB/s eta 0:00:01\n",
      "   ----- ---------------------------------- 0.9/7.0 MB 10.6 MB/s eta 0:00:01\n",
      "   --------- ------------------------------ 1.6/7.0 MB 14.6 MB/s eta 0:00:01\n",
      "   ------------ --------------------------- 2.1/7.0 MB 13.4 MB/s eta 0:00:01\n",
      "   ---------------- ----------------------- 3.0/7.0 MB 14.3 MB/s eta 0:00:01\n",
      "   --------------------- ------------------ 3.8/7.0 MB 15.0 MB/s eta 0:00:01\n",
      "   -------------------------- ------------- 4.6/7.0 MB 15.1 MB/s eta 0:00:01\n",
      "   ----------------------------- ---------- 5.2/7.0 MB 14.4 MB/s eta 0:00:01\n",
      "   ---------------------------------- ----- 6.0/7.0 MB 14.6 MB/s eta 0:00:01\n",
      "   -------------------------------------- - 6.7/7.0 MB 14.8 MB/s eta 0:00:01\n",
      "   ---------------------------------------  7.0/7.0 MB 14.9 MB/s eta 0:00:01\n",
      "   ---------------------------------------  7.0/7.0 MB 14.9 MB/s eta 0:00:01\n",
      "   ---------------------------------------  7.0/7.0 MB 14.9 MB/s eta 0:00:01\n",
      "   ---------------------------------------- 7.0/7.0 MB 11.1 MB/s eta 0:00:00\n",
      "Downloading pyparsing-3.2.3-py3-none-any.whl (111 kB)\n",
      "   ---------------------------------------- 0.0/111.1 kB ? eta -:--:--\n",
      "   ---------------------------------------- 111.1/111.1 kB 8.5 MB/s eta 0:00:00\n",
      "Installing collected packages: pyparsing, pillow, kiwisolver, fonttools, cycler, contourpy, matplotlib\n",
      "Successfully installed contourpy-1.3.3 cycler-0.12.1 fonttools-4.59.0 kiwisolver-1.4.8 matplotlib-3.10.3 pillow-11.3.0 pyparsing-3.2.3\n",
      "Note: you may need to restart the kernel to use updated packages.\n"
     ]
    },
    {
     "name": "stderr",
     "output_type": "stream",
     "text": [
      "\n",
      "[notice] A new release of pip is available: 23.2.1 -> 25.1.1\n",
      "[notice] To update, run: python.exe -m pip install --upgrade pip\n"
     ]
    }
   ],
   "source": [
    "pip install matplotlib\n"
   ]
  },
  {
   "cell_type": "code",
   "execution_count": 23,
   "id": "03990d84-b381-4373-86f8-cd7070feaf4c",
   "metadata": {},
   "outputs": [
    {
     "name": "stdout",
     "output_type": "stream",
     "text": [
      "Collecting seaborn\n",
      "  Obtaining dependency information for seaborn from https://files.pythonhosted.org/packages/83/11/00d3c3dfc25ad54e731d91449895a79e4bf2384dc3ac01809010ba88f6d5/seaborn-0.13.2-py3-none-any.whl.metadata\n",
      "  Using cached seaborn-0.13.2-py3-none-any.whl.metadata (5.4 kB)\n",
      "Requirement already satisfied: numpy!=1.24.0,>=1.20 in c:\\users\\user\\apl\\python_project_1\\.venv\\lib\\site-packages (from seaborn) (2.3.2)\n",
      "Requirement already satisfied: pandas>=1.2 in c:\\users\\user\\apl\\python_project_1\\.venv\\lib\\site-packages (from seaborn) (2.3.1)\n",
      "Requirement already satisfied: matplotlib!=3.6.1,>=3.4 in c:\\users\\user\\apl\\python_project_1\\.venv\\lib\\site-packages (from seaborn) (3.10.3)\n",
      "Requirement already satisfied: contourpy>=1.0.1 in c:\\users\\user\\apl\\python_project_1\\.venv\\lib\\site-packages (from matplotlib!=3.6.1,>=3.4->seaborn) (1.3.3)\n",
      "Requirement already satisfied: cycler>=0.10 in c:\\users\\user\\apl\\python_project_1\\.venv\\lib\\site-packages (from matplotlib!=3.6.1,>=3.4->seaborn) (0.12.1)\n",
      "Requirement already satisfied: fonttools>=4.22.0 in c:\\users\\user\\apl\\python_project_1\\.venv\\lib\\site-packages (from matplotlib!=3.6.1,>=3.4->seaborn) (4.59.0)\n",
      "Requirement already satisfied: kiwisolver>=1.3.1 in c:\\users\\user\\apl\\python_project_1\\.venv\\lib\\site-packages (from matplotlib!=3.6.1,>=3.4->seaborn) (1.4.8)\n",
      "Requirement already satisfied: packaging>=20.0 in c:\\users\\user\\apl\\python_project_1\\.venv\\lib\\site-packages (from matplotlib!=3.6.1,>=3.4->seaborn) (25.0)\n",
      "Requirement already satisfied: pillow>=8 in c:\\users\\user\\apl\\python_project_1\\.venv\\lib\\site-packages (from matplotlib!=3.6.1,>=3.4->seaborn) (11.3.0)\n",
      "Requirement already satisfied: pyparsing>=2.3.1 in c:\\users\\user\\apl\\python_project_1\\.venv\\lib\\site-packages (from matplotlib!=3.6.1,>=3.4->seaborn) (3.2.3)\n",
      "Requirement already satisfied: python-dateutil>=2.7 in c:\\users\\user\\apl\\python_project_1\\.venv\\lib\\site-packages (from matplotlib!=3.6.1,>=3.4->seaborn) (2.9.0.post0)\n",
      "Requirement already satisfied: pytz>=2020.1 in c:\\users\\user\\apl\\python_project_1\\.venv\\lib\\site-packages (from pandas>=1.2->seaborn) (2025.2)\n",
      "Requirement already satisfied: tzdata>=2022.7 in c:\\users\\user\\apl\\python_project_1\\.venv\\lib\\site-packages (from pandas>=1.2->seaborn) (2025.2)\n",
      "Requirement already satisfied: six>=1.5 in c:\\users\\user\\apl\\python_project_1\\.venv\\lib\\site-packages (from python-dateutil>=2.7->matplotlib!=3.6.1,>=3.4->seaborn) (1.17.0)\n",
      "Using cached seaborn-0.13.2-py3-none-any.whl (294 kB)\n",
      "Installing collected packages: seaborn\n",
      "Successfully installed seaborn-0.13.2\n",
      "Note: you may need to restart the kernel to use updated packages.\n"
     ]
    },
    {
     "name": "stderr",
     "output_type": "stream",
     "text": [
      "\n",
      "[notice] A new release of pip is available: 23.2.1 -> 25.1.1\n",
      "[notice] To update, run: python.exe -m pip install --upgrade pip\n"
     ]
    }
   ],
   "source": [
    "pip install seaborn"
   ]
  },
  {
   "cell_type": "code",
   "execution_count": 24,
   "id": "f305d304-fd2b-41bc-aec6-9898fe33f2aa",
   "metadata": {},
   "outputs": [],
   "source": [
    "import matplotlib.pyplot as plt\n",
    "import seaborn as sns"
   ]
  },
  {
   "cell_type": "code",
   "execution_count": 25,
   "id": "58593365-776f-4b99-ae0f-b7cee6f3813e",
   "metadata": {},
   "outputs": [
    {
     "data": {
      "image/png": "[encoded data removed]",
      "text/plain": [
       "<Figure size 1000x600 with 1 Axes>"
      ]
     },
     "metadata": {},
     "output_type": "display_data"
    }
   ],
   "source": [
    "# График топ 10 команд по очкам\n",
    "top10 = df.sort_values('О', ascending=False).head(10)\n",
    "plt.figure(figsize=(10,6))\n",
    "sns.barplot(x='О', y='Команда', data=top10)\n",
    "plt.title('Топ 10 команд по очкам')\n",
    "plt.show()"
   ]
  },
  {
   "cell_type": "code",
   "execution_count": 30,
   "id": "922d94ea-5c59-4a71-b48b-d88e1447baa6",
   "metadata": {},
   "outputs": [
    {
     "name": "stdout",
     "output_type": "stream",
     "text": [
      "Requirement already satisfied: numpy in c:\\users\\user\\apl\\python_project_1\\.venv\\lib\\site-packages (2.3.2)\n",
      "Note: you may need to restart the kernel to use updated packages.\n"
     ]
    },
    {
     "name": "stderr",
     "output_type": "stream",
     "text": [
      "\n",
      "[notice] A new release of pip is available: 23.2.1 -> 25.1.1\n",
      "[notice] To update, run: python.exe -m pip install --upgrade pip\n"
     ]
    }
   ],
   "source": [
    "pip install numpy"
   ]
  },
  {
   "cell_type": "code",
   "execution_count": 31,
   "id": "f8d533d6-a06f-47dc-b59d-71845a99e782",
   "metadata": {},
   "outputs": [
    {
     "name": "stdout",
     "output_type": "stream",
     "text": [
      "Collecting scipy\n",
      "  Obtaining dependency information for scipy from https://files.pythonhosted.org/packages/7c/a7/4c94bbe91f12126b8bf6709b2471900577b7373a4fd1f431f28ba6f81115/scipy-1.16.0-cp313-cp313-win_amd64.whl.metadata\n",
      "  Downloading scipy-1.16.0-cp313-cp313-win_amd64.whl.metadata (60 kB)\n",
      "     ---------------------------------------- 0.0/60.8 kB ? eta -:--:--\n",
      "     ------ --------------------------------- 10.2/60.8 kB ? eta -:--:--\n",
      "     ------ --------------------------------- 10.2/60.8 kB ? eta -:--:--\n",
      "     ------ --------------------------------- 10.2/60.8 kB ? eta -:--:--\n",
      "     ------ --------------------------------- 10.2/60.8 kB ? eta -:--:--\n",
      "     ------------- ------------------------- 20.5/60.8 kB 55.5 kB/s eta 0:00:01\n",
      "     ------------------- ------------------- 30.7/60.8 kB 81.6 kB/s eta 0:00:01\n",
      "     -------------------------------- ----- 51.2/60.8 kB 131.9 kB/s eta 0:00:01\n",
      "     -------------------------------------- 60.8/60.8 kB 141.3 kB/s eta 0:00:00\n",
      "Requirement already satisfied: numpy<2.6,>=1.25.2 in c:\\users\\user\\apl\\python_project_1\\.venv\\lib\\site-packages (from scipy) (2.3.2)\n",
      "Downloading scipy-1.16.0-cp313-cp313-win_amd64.whl (38.4 MB)\n",
      "   ---------------------------------------- 0.0/38.4 MB ? eta -:--:--\n",
      "   ---------------------------------------- 0.0/38.4 MB 1.1 MB/s eta 0:00:35\n",
      "   ---------------------------------------- 0.2/38.4 MB 2.6 MB/s eta 0:00:15\n",
      "   ---------------------------------------- 0.4/38.4 MB 3.0 MB/s eta 0:00:13\n",
      "    --------------------------------------- 0.9/38.4 MB 5.0 MB/s eta 0:00:08\n",
      "   - -------------------------------------- 1.2/38.4 MB 5.4 MB/s eta 0:00:07\n",
      "   -- ------------------------------------- 2.6/38.4 MB 9.3 MB/s eta 0:00:04\n",
      "   --- ------------------------------------ 3.8/38.4 MB 11.7 MB/s eta 0:00:03\n",
      "   ----- ---------------------------------- 5.5/38.4 MB 14.3 MB/s eta 0:00:03\n",
      "   ------- -------------------------------- 6.8/38.4 MB 15.9 MB/s eta 0:00:02\n",
      "   -------- ------------------------------- 8.2/38.4 MB 17.2 MB/s eta 0:00:02\n",
      "   ---------- ----------------------------- 9.7/38.4 MB 18.6 MB/s eta 0:00:02\n",
      "   ----------- ---------------------------- 11.0/38.4 MB 26.3 MB/s eta 0:00:02\n",
      "   ------------ --------------------------- 12.3/38.4 MB 28.7 MB/s eta 0:00:01\n",
      "   -------------- ------------------------- 13.6/38.4 MB 28.7 MB/s eta 0:00:01\n",
      "   --------------- ------------------------ 14.8/38.4 MB 29.1 MB/s eta 0:00:01\n",
      "   ---------------- ----------------------- 15.9/38.4 MB 28.1 MB/s eta 0:00:01\n",
      "   ----------------- ---------------------- 16.9/38.4 MB 26.7 MB/s eta 0:00:01\n",
      "   ------------------ --------------------- 17.9/38.4 MB 25.9 MB/s eta 0:00:01\n",
      "   ------------------- -------------------- 18.9/38.4 MB 25.1 MB/s eta 0:00:01\n",
      "   -------------------- ------------------- 19.7/38.4 MB 23.7 MB/s eta 0:00:01\n",
      "   --------------------- ------------------ 20.5/38.4 MB 23.1 MB/s eta 0:00:01\n",
      "   ---------------------- ----------------- 21.3/38.4 MB 22.2 MB/s eta 0:00:01\n",
      "   ----------------------- ---------------- 22.1/38.4 MB 21.3 MB/s eta 0:00:01\n",
      "   ----------------------- ---------------- 23.0/38.4 MB 20.5 MB/s eta 0:00:01\n",
      "   ------------------------- -------------- 24.3/38.4 MB 20.6 MB/s eta 0:00:01\n",
      "   -------------------------- ------------- 25.6/38.4 MB 20.7 MB/s eta 0:00:01\n",
      "   ---------------------------- ----------- 26.9/38.4 MB 21.6 MB/s eta 0:00:01\n",
      "   ----------------------------- ---------- 28.1/38.4 MB 21.7 MB/s eta 0:00:01\n",
      "   ------------------------------ --------- 29.3/38.4 MB 22.5 MB/s eta 0:00:01\n",
      "   -------------------------------- ------- 30.9/38.4 MB 24.0 MB/s eta 0:00:01\n",
      "   --------------------------------- ------ 32.0/38.4 MB 24.6 MB/s eta 0:00:01\n",
      "   ---------------------------------- ----- 33.3/38.4 MB 25.7 MB/s eta 0:00:01\n",
      "   ------------------------------------ --- 34.7/38.4 MB 24.9 MB/s eta 0:00:01\n",
      "   ------------------------------------- -- 35.8/38.4 MB 24.4 MB/s eta 0:00:01\n",
      "   -------------------------------------- - 36.7/38.4 MB 23.4 MB/s eta 0:00:01\n",
      "   ---------------------------------------  37.6/38.4 MB 23.2 MB/s eta 0:00:01\n",
      "   ---------------------------------------  38.4/38.4 MB 22.6 MB/s eta 0:00:01\n",
      "   ---------------------------------------  38.4/38.4 MB 22.6 MB/s eta 0:00:01\n",
      "   ---------------------------------------  38.4/38.4 MB 22.6 MB/s eta 0:00:01\n",
      "   ---------------------------------------  38.4/38.4 MB 22.6 MB/s eta 0:00:01\n",
      "   ---------------------------------------- 38.4/38.4 MB 14.3 MB/s eta 0:00:00\n",
      "Installing collected packages: scipy\n",
      "Successfully installed scipy-1.16.0\n",
      "Note: you may need to restart the kernel to use updated packages.\n"
     ]
    },
    {
     "name": "stderr",
     "output_type": "stream",
     "text": [
      "\n",
      "[notice] A new release of pip is available: 23.2.1 -> 25.1.1\n",
      "[notice] To update, run: python.exe -m pip install --upgrade pip\n"
     ]
    }
   ],
   "source": [
    "pip install scipy"
   ]
  },
  {
   "cell_type": "code",
   "execution_count": 32,
   "id": "65882430-1494-44eb-b4d7-05133fe79e8a",
   "metadata": {},
   "outputs": [],
   "source": [
    "import numpy as np\n",
    "import matplotlib.pyplot as plt\n",
    "from scipy import stats"
   ]
  },
  {
   "cell_type": "code",
   "execution_count": null,
   "id": "51fce1b7-f35a-4c36-9aca-d25537132677",
   "metadata": {},
   "outputs": [],
   "source": []
  }
 ],
 "metadata": {
  "kernelspec": {
   "display_name": "Python 3 (ipykernel)",
   "language": "python",
   "name": "python3"
  },
  "language_info": {
   "codemirror_mode": {
    "name": "ipython",
    "version": 3
   },
   "file_extension": ".py",
   "mimetype": "text/x-python",
   "name": "python",
   "nbconvert_exporter": "python",
   "pygments_lexer": "ipython3",
   "version": "3.13.1"
  }
 },
 "nbformat": 4,
 "nbformat_minor": 5
}
